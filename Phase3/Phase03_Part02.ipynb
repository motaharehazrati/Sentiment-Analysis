{
  "nbformat": 4,
  "nbformat_minor": 0,
  "metadata": {
    "colab": {
      "provenance": []
    },
    "kernelspec": {
      "name": "python3",
      "display_name": "Python 3"
    },
    "language_info": {
      "name": "python"
    },
    "accelerator": "GPU",
    "gpuClass": "standard"
  },
  "cells": [
    {
      "cell_type": "markdown",
      "source": [
        "# Part 2\n",
        "## Step 1: Image (DenseNet) & Text (Glove) Backbone"
      ],
      "metadata": {
        "id": "hYKweM0TKgkM"
      }
    },
    {
      "cell_type": "code",
      "execution_count": null,
      "metadata": {
        "id": "JGX52x0aKeFW"
      },
      "outputs": [],
      "source": [
        "# download image datasets\n",
        "!pip install --upgrade --no-cache-dir gdown\n",
        "\n",
        "!gdown \"1GAZgPpTUBSfhne-Tp0GDkvSHuq6EMMbj&export=download\"\n",
        "!unzip \"/content/train_ende.zip\"\n",
        "\n",
        "!gdown \"1B9ZFmSTqfTMaqJ15nQDrRNLqBvo-B39W&export=download\"\n",
        "!unzip \"/content/test.zip\"\n",
        "\n",
        "!gdown \"12HM8uVNjFg-HRZ15ADue4oLGFAYQwvTA&export=download\"\n",
        "!unzip \"/content/dev.zip\""
      ]
    },
    {
      "cell_type": "code",
      "source": [
        "# libraries\n",
        "\n",
        "import os\n",
        "import re\n",
        "import zipfile\n",
        "\n",
        "import numpy as np\n",
        "import pandas as pd\n",
        "import seaborn as sns\n",
        "import matplotlib.pyplot as plt\n",
        "\n",
        "from sklearn.metrics import f1_score, accuracy_score, confusion_matrix\n",
        "\n",
        "from tqdm.notebook import tqdm\n",
        "from pickle import dump, load\n",
        "\n",
        "from pathlib import Path\n",
        "from PIL import Image\n",
        "import cv2\n",
        "\n",
        "import tensorflow as tf\n",
        "from keras.applications import DenseNet121\n",
        "from tensorflow.keras import layers, activations, models\n",
        "from tensorflow.keras.preprocessing.text import Tokenizer\n",
        "from tensorflow.keras.preprocessing.sequence import pad_sequences\n",
        "from tensorflow.keras.utils import load_img, img_to_array, to_categorical\n",
        "\n",
        "import nltk\n",
        "nltk.download('stopwords')\n",
        "from nltk.corpus import stopwords\n",
        "from nltk.stem.snowball import SnowballStemmer\n",
        "from nltk.stem import WordNetLemmatizer\n",
        "nltk.download(\"wordnet\")\n",
        "nltk.download('omw-1.4')\n",
        "from nltk.corpus import wordnet as wn\n",
        "nltk.download('punkt')\n",
        "from nltk.tokenize import word_tokenize"
      ],
      "metadata": {
        "id": "Zq1NekjDKkZF"
      },
      "execution_count": null,
      "outputs": []
    },
    {
      "cell_type": "code",
      "source": [
        "# make dataset\n",
        "\n",
        "img_train = Path('/content/train_ende')\n",
        "img_train = list(img_train.glob(r'**/*.jpg'))\n",
        "img_train = pd.Series(img_train).astype(str)\n",
        "img_train = pd.Series(sorted(img_train, key=lambda x:int(re.findall('(\\d+)', x)[0])), name='images')\n",
        "txt_train = pd.read_fwf('https://github.com/XL2248/MSCTD/raw/main/MSCTD_data/ende/english_train.txt', names=['sentences'], header=None)\n",
        "lbl_train = pd.read_fwf('https://github.com/XL2248/MSCTD/raw/main/MSCTD_data/ende/sentiment_train.txt',names=['labels'], header=None)\n",
        "train_set = pd.concat([img_train, txt_train, lbl_train], axis=1)\n",
        "\n",
        "img_val = Path('/content/dev')\n",
        "img_val = list(img_val.glob(r'**/*.jpg'))\n",
        "img_val = pd.Series(img_val).astype(str)\n",
        "img_val = pd.Series(sorted(img_val, key=lambda x:int(re.findall('(\\d+)', x)[0])), name='images')\n",
        "txt_val = pd.read_fwf('https://github.com/XL2248/MSCTD/raw/main/MSCTD_data/ende/english_dev.txt', names=['sentences'], header=None)\n",
        "lbl_val = pd.read_fwf('https://github.com/XL2248/MSCTD/raw/main/MSCTD_data/ende/sentiment_dev.txt',names=['labels'], header=None)\n",
        "val_set = pd.concat([img_val, txt_val, lbl_val], axis=1)\n",
        "\n",
        "img_test = Path('/content/test')\n",
        "img_test = list(img_test.glob(r'**/*.jpg'))\n",
        "img_test = pd.Series(img_test).astype(str)\n",
        "img_test = pd.Series(sorted(img_test, key=lambda x:int(re.findall('(\\d+)', x)[0])), name='images')\n",
        "txt_test = pd.read_fwf('https://github.com/XL2248/MSCTD/raw/main/MSCTD_data/ende/english_test.txt', names=['sentences'], header=None)\n",
        "lbl_test = pd.read_fwf('https://github.com/XL2248/MSCTD/raw/main/MSCTD_data/ende/sentiment_test.txt',names=['labels'], header=None)\n",
        "test_set = pd.concat([img_test, txt_test, lbl_test], axis=1)"
      ],
      "metadata": {
        "id": "inuinepIKnnX"
      },
      "execution_count": null,
      "outputs": []
    },
    {
      "cell_type": "markdown",
      "source": [
        "## Image Model"
      ],
      "metadata": {
        "id": "gkdhXleFLvlY"
      }
    },
    {
      "cell_type": "code",
      "source": [
        "def resize(img):\n",
        "  img = plt.imread(img)\n",
        "  resized_image = cv2.resize(img, (128,128), interpolation=cv2.INTER_AREA)\n",
        "  resized_image = np.expand_dims(resized_image, axis=0)\n",
        "  return resized_image"
      ],
      "metadata": {
        "id": "NcZcRipOKqpx"
      },
      "execution_count": null,
      "outputs": []
    },
    {
      "cell_type": "code",
      "source": [
        "resized_train_images = np.array([resize(img) for img in train_set['images']]).reshape(len(train_set['images']), 128, 128, 3)\n",
        "resized_val_images = np.array([resize(img) for img in val_set['images']]).reshape(len(val_set['images']), 128, 128, 3)\n",
        "resized_test_images = np.array([resize(img) for img in test_set['images']]).reshape(len(test_set['images']), 128, 128, 3)\n",
        "\n",
        "train_labels = train_set.labels.values\n",
        "val_labels = val_set.labels.values\n",
        "test_labels = test_set.labels.values"
      ],
      "metadata": {
        "id": "uU8sg4eBKwxf"
      },
      "execution_count": null,
      "outputs": []
    },
    {
      "cell_type": "code",
      "source": [
        "def DenseNet(summary=False):\n",
        "\n",
        "  dense_layer = DenseNet121(weights='imagenet', input_shape=(128,128,3), include_top=False)\n",
        "  dense_layer.trainable = False\n",
        "\n",
        "  inputs = layers.Input(shape=(128,128,3))\n",
        "  x = dense_layer(inputs, training=False)\n",
        "  x = layers.Flatten()(x)\n",
        "  x = layers.Dense(512, activation='relu', kernel_initializer='he_normal')(x)\n",
        "  x = layers.BatchNormalization()(x)\n",
        "  x = layers.Dropout(0.4)(x)\n",
        "  x = layers.Dense(512, activation='relu', kernel_initializer='he_normal')(x)\n",
        "  x = layers.BatchNormalization()(x)\n",
        "  x = layers.Dropout(0.5)(x)\n",
        "  prediction = layers.Dense(3, activation='softmax')(x)\n",
        "\n",
        "  model = models.Model(inputs=inputs, outputs=prediction)\n",
        "  model.compile(optimizer=tf.keras.optimizers.Adam(1e-4),loss='sparse_categorical_crossentropy',metrics=['accuracy'])\n",
        "\n",
        "  if summary:\n",
        "    print(model.summary())\n",
        "\n",
        "  return model"
      ],
      "metadata": {
        "id": "-kEvdNtILiSh"
      },
      "execution_count": null,
      "outputs": []
    },
    {
      "cell_type": "code",
      "source": [
        "image_model = DenseNet()\n",
        "image_model.fit(resized_train_images, train_labels, epochs=15, batch_size=128, validation_data=(resized_val_images, val_labels))"
      ],
      "metadata": {
        "colab": {
          "base_uri": "https://localhost:8080/"
        },
        "id": "SvBbsIkaLp1c",
        "outputId": "21bdab25-8bf8-47cb-b8f0-8d8bc3702944"
      },
      "execution_count": null,
      "outputs": [
        {
          "output_type": "stream",
          "name": "stdout",
          "text": [
            "Epoch 1/15\n",
            "159/159 [==============================] - 33s 157ms/step - loss: 1.7812 - accuracy: 0.3385 - val_loss: 1.4176 - val_accuracy: 0.3462\n",
            "Epoch 2/15\n",
            "159/159 [==============================] - 23s 143ms/step - loss: 1.5612 - accuracy: 0.3671 - val_loss: 1.2208 - val_accuracy: 0.3569\n",
            "Epoch 3/15\n",
            "159/159 [==============================] - 24s 150ms/step - loss: 1.4706 - accuracy: 0.3800 - val_loss: 1.1846 - val_accuracy: 0.3703\n",
            "Epoch 4/15\n",
            "159/159 [==============================] - 24s 150ms/step - loss: 1.4037 - accuracy: 0.3856 - val_loss: 1.1780 - val_accuracy: 0.3733\n",
            "Epoch 5/15\n",
            "159/159 [==============================] - 23s 147ms/step - loss: 1.3405 - accuracy: 0.3981 - val_loss: 1.1780 - val_accuracy: 0.3686\n",
            "Epoch 6/15\n",
            "159/159 [==============================] - 23s 148ms/step - loss: 1.3098 - accuracy: 0.4016 - val_loss: 1.1639 - val_accuracy: 0.3658\n",
            "Epoch 7/15\n",
            "159/159 [==============================] - 23s 147ms/step - loss: 1.2646 - accuracy: 0.4126 - val_loss: 1.1768 - val_accuracy: 0.3729\n",
            "Epoch 8/15\n",
            "159/159 [==============================] - 24s 152ms/step - loss: 1.2430 - accuracy: 0.4170 - val_loss: 1.1612 - val_accuracy: 0.3654\n",
            "Epoch 9/15\n",
            "159/159 [==============================] - 23s 147ms/step - loss: 1.2107 - accuracy: 0.4273 - val_loss: 1.1660 - val_accuracy: 0.3662\n",
            "Epoch 10/15\n",
            "159/159 [==============================] - 23s 148ms/step - loss: 1.1829 - accuracy: 0.4310 - val_loss: 1.1828 - val_accuracy: 0.3571\n",
            "Epoch 11/15\n",
            "159/159 [==============================] - 24s 151ms/step - loss: 1.1590 - accuracy: 0.4427 - val_loss: 1.1662 - val_accuracy: 0.3664\n",
            "Epoch 12/15\n",
            "159/159 [==============================] - 23s 147ms/step - loss: 1.1325 - accuracy: 0.4474 - val_loss: 1.1759 - val_accuracy: 0.3690\n",
            "Epoch 13/15\n",
            "159/159 [==============================] - 24s 151ms/step - loss: 1.1164 - accuracy: 0.4525 - val_loss: 1.1834 - val_accuracy: 0.3618\n",
            "Epoch 14/15\n",
            "159/159 [==============================] - 23s 147ms/step - loss: 1.1034 - accuracy: 0.4629 - val_loss: 1.1719 - val_accuracy: 0.3693\n",
            "Epoch 15/15\n",
            "159/159 [==============================] - 23s 147ms/step - loss: 1.0862 - accuracy: 0.4698 - val_loss: 1.1808 - val_accuracy: 0.3648\n"
          ]
        },
        {
          "output_type": "execute_result",
          "data": {
            "text/plain": [
              "<keras.callbacks.History at 0x7f9215be3d90>"
            ]
          },
          "metadata": {},
          "execution_count": 86
        }
      ]
    },
    {
      "cell_type": "code",
      "source": [
        "# initial prediction of image_model (to be compared with tuned model)\n",
        "\n",
        "initial_pred = image_model.predict(resized_test_images)\n",
        "initial_pred = np.argmax(initial_pred, axis=1)\n",
        "print('Accuracy: ', accuracy_score(test_labels, initial_pred))\n",
        "print('f1_score: ', f1_score(test_labels, initial_pred, average='weighted'))"
      ],
      "metadata": {
        "colab": {
          "base_uri": "https://localhost:8080/"
        },
        "id": "eicquaoQWQO8",
        "outputId": "b07b5810-3f67-4255-a927-03494b8a0786"
      },
      "execution_count": null,
      "outputs": [
        {
          "output_type": "stream",
          "name": "stdout",
          "text": [
            "159/159 [==============================] - 7s 35ms/step\n",
            "Accuracy:  0.37793566212749163\n",
            "f1_score:  0.3324419324133743\n"
          ]
        }
      ]
    },
    {
      "cell_type": "code",
      "source": [
        "cm = confusion_matrix(test_labels, initial_pred)\n",
        "plt.figure(figsize=(12,8), dpi=100)\n",
        "sns.heatmap(cm, annot=True, cmap='Pastel2')\n",
        "plt.show()"
      ],
      "metadata": {
        "colab": {
          "base_uri": "https://localhost:8080/",
          "height": 664
        },
        "id": "BpD1CqxWkG8v",
        "outputId": "cd0771db-5ff9-4638-f5aa-dd7924f5090c"
      },
      "execution_count": null,
      "outputs": [
        {
          "output_type": "display_data",
          "data": {
            "text/plain": [
              "<Figure size 1200x800 with 2 Axes>"
            ],
            "image/png": "[encoded data removed]"
          },
          "metadata": {
            "needs_background": "light"
          }
        }
      ]
    },
    {
      "cell_type": "markdown",
      "source": [
        "## Text Model"
      ],
      "metadata": {
        "id": "J-nQokzVL1-9"
      }
    },
    {
      "cell_type": "code",
      "source": [
        "def clean_text(sentence):\n",
        "  sentence = str(sentence).lower()\n",
        "  sentence = re.sub('[^a-z]',' ',sentence)\n",
        "  sentence = word_tokenize(sentence)\n",
        "  stop_words = stopwords.words('english')\n",
        "  sentence = [i for i in sentence if i not in stop_words]\n",
        "  sentence = [i for i in sentence if len(i)>1]\n",
        "  sentence = ' '.join(sentence)\n",
        "  return sentence"
      ],
      "metadata": {
        "id": "bKDG9st-KxiI"
      },
      "execution_count": null,
      "outputs": []
    },
    {
      "cell_type": "code",
      "source": [
        "train_set['sentences'] = train_set['sentences'].apply(clean_text)\n",
        "val_set['sentences'] = val_set['sentences'].apply(clean_text)\n",
        "test_set['sentences'] = test_set['sentences'].apply(clean_text)\n",
        "\n",
        "train_sentences = train_set.sentences.values\n",
        "val_sentences = val_set.sentences.values\n",
        "test_sentences = test_set.sentences.values"
      ],
      "metadata": {
        "id": "urpkpilxK0u1"
      },
      "execution_count": null,
      "outputs": []
    },
    {
      "cell_type": "code",
      "source": [
        "!wget --no-check-certificate \\\n",
        "http://nlp.stanford.edu/data/glove.6B.zip \\\n",
        "-O /tmp/glove.6B.zip\n",
        "\n",
        "with zipfile.ZipFile('/tmp/glove.6B.zip', 'r') as zip_ref:\n",
        "    zip_ref.extractall('/tmp/glove')\n",
        "\n",
        "f = open('/tmp/glove/glove.6B.50d.txt')\n",
        "\n",
        "glove_vecs = {}\n",
        "\n",
        "for line in f:\n",
        "    values = line.split()\n",
        "    word = values[0]\n",
        "    vec = np.asarray(values[1:], dtype=\"float32\")\n",
        "    glove_vecs[word] = vec\n",
        "f.close()"
      ],
      "metadata": {
        "colab": {
          "base_uri": "https://localhost:8080/"
        },
        "id": "2X7HnRIaKxkU",
        "outputId": "436af4f9-ef86-4f2c-e3a9-e885914f97a3"
      },
      "execution_count": null,
      "outputs": [
        {
          "output_type": "stream",
          "name": "stdout",
          "text": [
            "--2023-02-09 19:05:05--  http://nlp.stanford.edu/data/glove.6B.zip\n",
            "Resolving nlp.stanford.edu (nlp.stanford.edu)... 171.64.67.140\n",
            "Connecting to nlp.stanford.edu (nlp.stanford.edu)|171.64.67.140|:80... connected.\n",
            "HTTP request sent, awaiting response... 302 Found\n",
            "Location: https://nlp.stanford.edu/data/glove.6B.zip [following]\n",
            "--2023-02-09 19:05:05--  https://nlp.stanford.edu/data/glove.6B.zip\n",
            "Connecting to nlp.stanford.edu (nlp.stanford.edu)|171.64.67.140|:443... connected.\n",
            "HTTP request sent, awaiting response... 301 Moved Permanently\n",
            "Location: https://downloads.cs.stanford.edu/nlp/data/glove.6B.zip [following]\n",
            "--2023-02-09 19:05:06--  https://downloads.cs.stanford.edu/nlp/data/glove.6B.zip\n",
            "Resolving downloads.cs.stanford.edu (downloads.cs.stanford.edu)... 171.64.64.22\n",
            "Connecting to downloads.cs.stanford.edu (downloads.cs.stanford.edu)|171.64.64.22|:443... connected.\n",
            "HTTP request sent, awaiting response... 200 OK\n",
            "Length: 862182613 (822M) [application/zip]\n",
            "Saving to: ‘/tmp/glove.6B.zip’\n",
            "\n",
            "/tmp/glove.6B.zip   100%[===================>] 822.24M  5.11MB/s    in 2m 40s  \n",
            "\n",
            "2023-02-09 19:07:46 (5.15 MB/s) - ‘/tmp/glove.6B.zip’ saved [862182613/862182613]\n",
            "\n"
          ]
        }
      ]
    },
    {
      "cell_type": "code",
      "source": [
        "all_centences = np.append(train_sentences,val_sentences)\n",
        "\n",
        "tokenizer = Tokenizer()\n",
        "tokenizer.fit_on_texts(all_centences)\n",
        "word2idx = tokenizer.word_index\n",
        "\n",
        "glove_embedding_matrix = np.zeros((len(word2idx) + 1, 50))\n",
        "for word, i in word2idx.items():\n",
        "  if i < len(word2idx):\n",
        "    embedding_vector = glove_vecs.get(word)\n",
        "    if embedding_vector is not None:\n",
        "      glove_embedding_matrix[i] = embedding_vector\n",
        "\n",
        "train_sequences = tokenizer.texts_to_sequences(train_sentences)\n",
        "train_padded = pad_sequences(train_sequences, maxlen=10)\n",
        "\n",
        "val_sequences = tokenizer.texts_to_sequences(val_sentences)\n",
        "val_padded = pad_sequences(val_sequences, maxlen=10)\n",
        "\n",
        "test_sequences = tokenizer.texts_to_sequences(test_sentences)\n",
        "test_padded = pad_sequences(test_sequences, maxlen=10)"
      ],
      "metadata": {
        "id": "2P64T6O9KxnV"
      },
      "execution_count": null,
      "outputs": []
    },
    {
      "cell_type": "code",
      "source": [
        "def model():\n",
        "  model = models.Sequential()\n",
        "  model.add(layers.Embedding(input_dim=glove_embedding_matrix.shape[0],\n",
        "                                    output_dim=glove_embedding_matrix.shape[1],\n",
        "                                    input_length=10,\n",
        "                                    weights=[glove_embedding_matrix],\n",
        "                                    trainable=False))\n",
        "  model.add(layers.Bidirectional(layers.LSTM(100, recurrent_dropout=0.1, return_sequences=True)))\n",
        "  model.add(layers.GlobalAveragePooling1D())\n",
        "  model.add(layers.Dense(50))\n",
        "  model.add(layers.Dropout(0.3))\n",
        "  model.add(layers.Dense(3, activation='softmax'))\n",
        "  model.compile(loss='sparse_categorical_crossentropy', optimizer='adam', metrics=['accuracy'])\n",
        "  return model"
      ],
      "metadata": {
        "id": "tnRKQGp9Mexy"
      },
      "execution_count": null,
      "outputs": []
    },
    {
      "cell_type": "code",
      "source": [
        "text_model = model()\n",
        "text_model.fit(train_padded, train_labels, epochs=10, batch_size=128, validation_data=(val_padded, val_labels))"
      ],
      "metadata": {
        "colab": {
          "base_uri": "https://localhost:8080/"
        },
        "id": "EGVqs3VWM0Bf",
        "outputId": "58df7c20-222f-4e01-928a-018b8cd1f3cf"
      },
      "execution_count": null,
      "outputs": [
        {
          "output_type": "stream",
          "name": "stderr",
          "text": [
            "WARNING:tensorflow:Layer lstm_1 will not use cuDNN kernels since it doesn't meet the criteria. It will use a generic GPU kernel as fallback when running on GPU.\n",
            "WARNING:tensorflow:Layer lstm_1 will not use cuDNN kernels since it doesn't meet the criteria. It will use a generic GPU kernel as fallback when running on GPU.\n",
            "WARNING:tensorflow:Layer lstm_1 will not use cuDNN kernels since it doesn't meet the criteria. It will use a generic GPU kernel as fallback when running on GPU.\n"
          ]
        },
        {
          "output_type": "stream",
          "name": "stdout",
          "text": [
            "Epoch 1/10\n",
            "159/159 [==============================] - 19s 98ms/step - loss: 1.0302 - accuracy: 0.4757 - val_loss: 1.0150 - val_accuracy: 0.4890\n",
            "Epoch 2/10\n",
            "159/159 [==============================] - 18s 112ms/step - loss: 0.9942 - accuracy: 0.5081 - val_loss: 0.9994 - val_accuracy: 0.4993\n",
            "Epoch 3/10\n",
            "159/159 [==============================] - 16s 101ms/step - loss: 0.9804 - accuracy: 0.5179 - val_loss: 0.9972 - val_accuracy: 0.5021\n",
            "Epoch 4/10\n",
            "159/159 [==============================] - 15s 93ms/step - loss: 0.9735 - accuracy: 0.5274 - val_loss: 0.9980 - val_accuracy: 0.4993\n",
            "Epoch 5/10\n",
            "159/159 [==============================] - 15s 94ms/step - loss: 0.9608 - accuracy: 0.5374 - val_loss: 0.9866 - val_accuracy: 0.5082\n",
            "Epoch 6/10\n",
            "159/159 [==============================] - 16s 100ms/step - loss: 0.9534 - accuracy: 0.5404 - val_loss: 0.9910 - val_accuracy: 0.5042\n",
            "Epoch 7/10\n",
            "159/159 [==============================] - 15s 93ms/step - loss: 0.9435 - accuracy: 0.5466 - val_loss: 0.9848 - val_accuracy: 0.5145\n",
            "Epoch 8/10\n",
            "159/159 [==============================] - 15s 92ms/step - loss: 0.9348 - accuracy: 0.5533 - val_loss: 0.9928 - val_accuracy: 0.5070\n",
            "Epoch 9/10\n",
            "159/159 [==============================] - 15s 94ms/step - loss: 0.9243 - accuracy: 0.5607 - val_loss: 0.9869 - val_accuracy: 0.5131\n",
            "Epoch 10/10\n",
            "159/159 [==============================] - 16s 99ms/step - loss: 0.9141 - accuracy: 0.5665 - val_loss: 0.9969 - val_accuracy: 0.5129\n"
          ]
        },
        {
          "output_type": "execute_result",
          "data": {
            "text/plain": [
              "<keras.callbacks.History at 0x7f92096b75b0>"
            ]
          },
          "metadata": {},
          "execution_count": 95
        }
      ]
    },
    {
      "cell_type": "markdown",
      "source": [
        "## Step 2 "
      ],
      "metadata": {
        "id": "M9DVkkvGM-48"
      }
    },
    {
      "cell_type": "code",
      "source": [
        "# tain on new dataset (unlabeld for us) --> fliker8k\n",
        "\n",
        "!wget https://github.com/jbrownlee/Datasets/releases/download/Flickr8k/Flickr8k_Dataset.zip\n",
        "!wget https://github.com/jbrownlee/Datasets/releases/download/Flickr8k/Flickr8k_text.zip\n",
        "\n",
        "!unzip Flickr8k_Dataset.zip -d all_images\n",
        "!unzip Flickr8k_text.zip -d all_captions"
      ],
      "metadata": {
        "id": "z0H_m_I-NCvk"
      },
      "execution_count": null,
      "outputs": []
    },
    {
      "cell_type": "code",
      "source": [
        "image_dir = Path('/content/all_images/Flicker8k_Dataset')\n",
        "image_paths = list(image_dir.glob(r'**/*.jpg'))\n",
        "image_str_paths = pd.Series(image_paths, name='ImagePath').astype(str)\n",
        "image_names = pd.Series([i.split(\"/\")[-1] for i in image_str_paths], name='ImageName')\n",
        "df = pd.concat([image_str_paths,image_names], axis=1)"
      ],
      "metadata": {
        "id": "30VzzOmNPakP"
      },
      "execution_count": null,
      "outputs": []
    },
    {
      "cell_type": "code",
      "source": [
        "texts_file = open('/content/all_captions/Flickr8k.token.txt', 'r')\n",
        "texts_file = texts_file.read()\n",
        "texts_file = texts_file.split('\\n')\n",
        "texts_file = texts_file[:-1]\n",
        "texts_dict = {}\n",
        "\n",
        "for des in texts_file:\n",
        "  if des.split('\\t')[0][:-2] not in texts_dict:\n",
        "    texts_dict[des.split('\\t')[0][:-2]] = [des.split('\\t')[1]]\n",
        "texts_df = pd.DataFrame({'ImageName':list(texts_dict.keys()),\n",
        "                         'ImageDescription':list(texts_dict.values())})"
      ],
      "metadata": {
        "id": "hXwOzmJeM7f7"
      },
      "execution_count": null,
      "outputs": []
    },
    {
      "cell_type": "code",
      "source": [
        "df = df.merge(texts_df, on='ImageName')\n",
        "df.head(5)"
      ],
      "metadata": {
        "colab": {
          "base_uri": "https://localhost:8080/",
          "height": 206
        },
        "id": "NNHg4fY_Pd93",
        "outputId": "f20b3e7a-6d54-4fea-fb57-7fa7235ba4ec"
      },
      "execution_count": null,
      "outputs": [
        {
          "output_type": "execute_result",
          "data": {
            "text/plain": [
              "                                           ImagePath  \\\n",
              "0  /content/all_images/Flicker8k_Dataset/20793096...   \n",
              "1  /content/all_images/Flicker8k_Dataset/32160857...   \n",
              "2  /content/all_images/Flicker8k_Dataset/23379198...   \n",
              "3  /content/all_images/Flicker8k_Dataset/29229732...   \n",
              "4  /content/all_images/Flicker8k_Dataset/36321979...   \n",
              "\n",
              "                   ImageName                                  ImageDescription  \n",
              "0   207930963_af3a2f1784.jpg          [A group of people in protective gear .]  \n",
              "1  3216085740_699c2ce1ae.jpg                  [A crowd holds American flags .]  \n",
              "2  2337919839_df83827fa0.jpg  [A little boy kicks a soccer ball in the park .]  \n",
              "3  2922973230_5a769ef92a.jpg                [A female walking through grass .]  \n",
              "4  3632197966_0c5061025f.jpg                    [a dirt biker clears a jump .]  "
            ],
            "text/html": [
              "\n",
              "  <div id=\"df-98416d78-775a-4b33-afcd-b65c93bfd439\">\n",
              "    <div class=\"colab-df-container\">\n",
              "      <div>\n",
              "<style scoped>\n",
              "    .dataframe tbody tr th:only-of-type {\n",
              "        vertical-align: middle;\n",
              "    }\n",
              "\n",
              "    .dataframe tbody tr th {\n",
              "        vertical-align: top;\n",
              "    }\n",
              "\n",
              "    .dataframe thead th {\n",
              "        text-align: right;\n",
              "    }\n",
              "</style>\n",
              "<table border=\"1\" class=\"dataframe\">\n",
              "  <thead>\n",
              "    <tr style=\"text-align: right;\">\n",
              "      <th></th>\n",
              "      <th>ImagePath</th>\n",
              "      <th>ImageName</th>\n",
              "      <th>ImageDescription</th>\n",
              "    </tr>\n",
              "  </thead>\n",
              "  <tbody>\n",
              "    <tr>\n",
              "      <th>0</th>\n",
              "      <td>/content/all_images/Flicker8k_Dataset/20793096...</td>\n",
              "      <td>207930963_af3a2f1784.jpg</td>\n",
              "      <td>[A group of people in protective gear .]</td>\n",
              "    </tr>\n",
              "    <tr>\n",
              "      <th>1</th>\n",
              "      <td>/content/all_images/Flicker8k_Dataset/32160857...</td>\n",
              "      <td>3216085740_699c2ce1ae.jpg</td>\n",
              "      <td>[A crowd holds American flags .]</td>\n",
              "    </tr>\n",
              "    <tr>\n",
              "      <th>2</th>\n",
              "      <td>/content/all_images/Flicker8k_Dataset/23379198...</td>\n",
              "      <td>2337919839_df83827fa0.jpg</td>\n",
              "      <td>[A little boy kicks a soccer ball in the park .]</td>\n",
              "    </tr>\n",
              "    <tr>\n",
              "      <th>3</th>\n",
              "      <td>/content/all_images/Flicker8k_Dataset/29229732...</td>\n",
              "      <td>2922973230_5a769ef92a.jpg</td>\n",
              "      <td>[A female walking through grass .]</td>\n",
              "    </tr>\n",
              "    <tr>\n",
              "      <th>4</th>\n",
              "      <td>/content/all_images/Flicker8k_Dataset/36321979...</td>\n",
              "      <td>3632197966_0c5061025f.jpg</td>\n",
              "      <td>[a dirt biker clears a jump .]</td>\n",
              "    </tr>\n",
              "  </tbody>\n",
              "</table>\n",
              "</div>\n",
              "      <button class=\"colab-df-convert\" onclick=\"convertToInteractive('df-98416d78-775a-4b33-afcd-b65c93bfd439')\"\n",
              "              title=\"Convert this dataframe to an interactive table.\"\n",
              "              style=\"display:none;\">\n",
              "        \n",
              "  <svg xmlns=\"http://www.w3.org/2000/svg\" height=\"24px\"viewBox=\"0 0 24 24\"\n",
              "       width=\"24px\">\n",
              "    <path d=\"M0 0h24v24H0V0z\" fill=\"none\"/>\n",
              "    <path d=\"M18.56 5.44l.94 2.06.94-2.06 2.06-.94-2.06-.94-.94-2.06-.94 2.06-2.06.94zm-11 1L8.5 8.5l.94-2.06 2.06-.94-2.06-.94L8.5 2.5l-.94 2.06-2.06.94zm10 10l.94 2.06.94-2.06 2.06-.94-2.06-.94-.94-2.06-.94 2.06-2.06.94z\"/><path d=\"M17.41 7.96l-1.37-1.37c-.4-.4-.92-.59-1.43-.59-.52 0-1.04.2-1.43.59L10.3 9.45l-7.72 7.72c-.78.78-.78 2.05 0 2.83L4 21.41c.39.39.9.59 1.41.59.51 0 1.02-.2 1.41-.59l7.78-7.78 2.81-2.81c.8-.78.8-2.07 0-2.86zM5.41 20L4 18.59l7.72-7.72 1.47 1.35L5.41 20z\"/>\n",
              "  </svg>\n",
              "      </button>\n",
              "      \n",
              "  <style>\n",
              "    .colab-df-container {\n",
              "      display:flex;\n",
              "      flex-wrap:wrap;\n",
              "      gap: 12px;\n",
              "    }\n",
              "\n",
              "    .colab-df-convert {\n",
              "      background-color: #E8F0FE;\n",
              "      border: none;\n",
              "      border-radius: 50%;\n",
              "      cursor: pointer;\n",
              "      display: none;\n",
              "      fill: #1967D2;\n",
              "      height: 32px;\n",
              "      padding: 0 0 0 0;\n",
              "      width: 32px;\n",
              "    }\n",
              "\n",
              "    .colab-df-convert:hover {\n",
              "      background-color: #E2EBFA;\n",
              "      box-shadow: 0px 1px 2px rgba(60, 64, 67, 0.3), 0px 1px 3px 1px rgba(60, 64, 67, 0.15);\n",
              "      fill: #174EA6;\n",
              "    }\n",
              "\n",
              "    [theme=dark] .colab-df-convert {\n",
              "      background-color: #3B4455;\n",
              "      fill: #D2E3FC;\n",
              "    }\n",
              "\n",
              "    [theme=dark] .colab-df-convert:hover {\n",
              "      background-color: #434B5C;\n",
              "      box-shadow: 0px 1px 3px 1px rgba(0, 0, 0, 0.15);\n",
              "      filter: drop-shadow(0px 1px 2px rgba(0, 0, 0, 0.3));\n",
              "      fill: #FFFFFF;\n",
              "    }\n",
              "  </style>\n",
              "\n",
              "      <script>\n",
              "        const buttonEl =\n",
              "          document.querySelector('#df-98416d78-775a-4b33-afcd-b65c93bfd439 button.colab-df-convert');\n",
              "        buttonEl.style.display =\n",
              "          google.colab.kernel.accessAllowed ? 'block' : 'none';\n",
              "\n",
              "        async function convertToInteractive(key) {\n",
              "          const element = document.querySelector('#df-98416d78-775a-4b33-afcd-b65c93bfd439');\n",
              "          const dataTable =\n",
              "            await google.colab.kernel.invokeFunction('convertToInteractive',\n",
              "                                                     [key], {});\n",
              "          if (!dataTable) return;\n",
              "\n",
              "          const docLinkHtml = 'Like what you see? Visit the ' +\n",
              "            '<a target=\"_blank\" href=https://colab.research.google.com/notebooks/data_table.ipynb>data table notebook</a>'\n",
              "            + ' to learn more about interactive tables.';\n",
              "          element.innerHTML = '';\n",
              "          dataTable['output_type'] = 'display_data';\n",
              "          await google.colab.output.renderOutput(dataTable, element);\n",
              "          const docLink = document.createElement('div');\n",
              "          docLink.innerHTML = docLinkHtml;\n",
              "          element.appendChild(docLink);\n",
              "        }\n",
              "      </script>\n",
              "    </div>\n",
              "  </div>\n",
              "  "
            ]
          },
          "metadata": {},
          "execution_count": 98
        }
      ]
    },
    {
      "cell_type": "code",
      "source": [
        "df_images = np.array([resize(img) for img in df['ImagePath']]).reshape(len(df['ImagePath']), 128, 128, 3)\n",
        "df['ImageDescription'] = df['ImageDescription'].apply(clean_text)\n",
        "df_sentences = df['ImageDescription'].values\n",
        "\n",
        "df_sequences = tokenizer.texts_to_sequences(df_sentences)\n",
        "df_sentences_padded = pad_sequences(df_sequences, maxlen=10)"
      ],
      "metadata": {
        "id": "xEFSYx2ZYObE"
      },
      "execution_count": null,
      "outputs": []
    },
    {
      "cell_type": "code",
      "source": [
        "text_pred_unlabels = text_model.predict(df_sentences_padded)"
      ],
      "metadata": {
        "colab": {
          "base_uri": "https://localhost:8080/"
        },
        "id": "x1OmBj7UUwRn",
        "outputId": "b48ae2fd-1f70-4bd8-fa9f-9806947a2a62"
      },
      "execution_count": null,
      "outputs": [
        {
          "output_type": "stream",
          "name": "stdout",
          "text": [
            "253/253 [==============================] - 2s 8ms/step\n"
          ]
        }
      ]
    },
    {
      "cell_type": "code",
      "source": [
        "def DenseNet(summary=False):\n",
        "\n",
        "  dense_layer = DenseNet121(weights='imagenet', input_shape=(128,128,3), include_top=False)\n",
        "  dense_layer.trainable = False\n",
        "\n",
        "  inputs = layers.Input(shape=(128,128,3))\n",
        "  x = dense_layer(inputs, training=False)\n",
        "  x = layers.Flatten()(x)\n",
        "  x = layers.Dense(512, activation='relu', kernel_initializer='he_normal')(x)\n",
        "  x = layers.BatchNormalization()(x)\n",
        "  x = layers.Dropout(0.4)(x)\n",
        "  x = layers.Dense(512, activation='relu', kernel_initializer='he_normal')(x)\n",
        "  x = layers.BatchNormalization()(x)\n",
        "  x = layers.Dropout(0.5)(x)\n",
        "  prediction = layers.Dense(3, activation='linear')(x)\n",
        "\n",
        "  model = models.Model(inputs=inputs, outputs=prediction)\n",
        "\n",
        "  if summary:\n",
        "    print(model.summary())\n",
        "\n",
        "  return model"
      ],
      "metadata": {
        "id": "niF-g_9obBRI"
      },
      "execution_count": null,
      "outputs": []
    },
    {
      "cell_type": "code",
      "source": [
        "# tune image_model on unlabeled dataset and not perfect text labels\n",
        "\n",
        "image_model = DenseNet()\n",
        "image_model.compile(optimizer='adam',loss='mean_squared_error')\n",
        "image_model.fit(df_images, text_pred_unlabels, epochs=15, batch_size=128, validation_split=0.2)"
      ],
      "metadata": {
        "colab": {
          "base_uri": "https://localhost:8080/"
        },
        "id": "XP8lhPXaZFhz",
        "outputId": "fa674905-d76d-4ac4-d391-3095a64f905d"
      },
      "execution_count": null,
      "outputs": [
        {
          "output_type": "stream",
          "name": "stdout",
          "text": [
            "Epoch 1/15\n",
            "51/51 [==============================] - 17s 197ms/step - loss: 2.3560 - val_loss: 1.1028\n",
            "Epoch 2/15\n",
            "51/51 [==============================] - 8s 165ms/step - loss: 1.2013 - val_loss: 0.6454\n",
            "Epoch 3/15\n",
            "51/51 [==============================] - 7s 145ms/step - loss: 0.7002 - val_loss: 0.1493\n",
            "Epoch 4/15\n",
            "51/51 [==============================] - 7s 146ms/step - loss: 0.4302 - val_loss: 0.0811\n",
            "Epoch 5/15\n",
            "51/51 [==============================] - 7s 145ms/step - loss: 0.2762 - val_loss: 0.0404\n",
            "Epoch 6/15\n",
            "51/51 [==============================] - 8s 148ms/step - loss: 0.1679 - val_loss: 0.0330\n",
            "Epoch 7/15\n",
            "51/51 [==============================] - 8s 151ms/step - loss: 0.1106 - val_loss: 0.0300\n",
            "Epoch 8/15\n",
            "51/51 [==============================] - 8s 154ms/step - loss: 0.0772 - val_loss: 0.0284\n",
            "Epoch 9/15\n",
            "51/51 [==============================] - 8s 151ms/step - loss: 0.0555 - val_loss: 0.0283\n",
            "Epoch 10/15\n",
            "51/51 [==============================] - 7s 146ms/step - loss: 0.0447 - val_loss: 0.0266\n",
            "Epoch 11/15\n",
            "51/51 [==============================] - 7s 147ms/step - loss: 0.0369 - val_loss: 0.0257\n",
            "Epoch 12/15\n",
            "51/51 [==============================] - 7s 145ms/step - loss: 0.0326 - val_loss: 0.0252\n",
            "Epoch 13/15\n",
            "51/51 [==============================] - 7s 146ms/step - loss: 0.0306 - val_loss: 0.0256\n",
            "Epoch 14/15\n",
            "51/51 [==============================] - 7s 147ms/step - loss: 0.0286 - val_loss: 0.0251\n",
            "Epoch 15/15\n",
            "51/51 [==============================] - 7s 145ms/step - loss: 0.0271 - val_loss: 0.0248\n"
          ]
        },
        {
          "output_type": "execute_result",
          "data": {
            "text/plain": [
              "<keras.callbacks.History at 0x7f9219201490>"
            ]
          },
          "metadata": {},
          "execution_count": 102
        }
      ]
    },
    {
      "cell_type": "code",
      "source": [
        "# final prediction of image_model (to be compared with initial model)\n",
        "\n",
        "final_pred = image_model.predict(resized_test_images)\n",
        "final_pred = np.argmax(final_pred, axis=1)\n",
        "print('Accuracy: ', accuracy_score(test_labels, final_pred))\n",
        "print('f1_score: ', f1_score(test_labels, final_pred, average='weighted'))"
      ],
      "metadata": {
        "colab": {
          "base_uri": "https://localhost:8080/"
        },
        "id": "5OnJUd29aK9p",
        "outputId": "db84cf19-09fb-4106-f3db-3cb67dda1911"
      },
      "execution_count": null,
      "outputs": [
        {
          "output_type": "stream",
          "name": "stdout",
          "text": [
            "159/159 [==============================] - 7s 34ms/step\n",
            "Accuracy:  0.2843891849220446\n",
            "f1_score:  0.2011869306231606\n"
          ]
        }
      ]
    },
    {
      "cell_type": "code",
      "source": [
        "cm = confusion_matrix(test_labels, final_pred)\n",
        "plt.figure(figsize=(12,8), dpi=100)\n",
        "sns.heatmap(cm, annot=True, cmap='Pastel2')\n",
        "plt.show()"
      ],
      "metadata": {
        "colab": {
          "base_uri": "https://localhost:8080/",
          "height": 664
        },
        "id": "Ocj8M_FImeBj",
        "outputId": "b64c6126-18fd-457e-f776-2a3f11aa4ed4"
      },
      "execution_count": null,
      "outputs": [
        {
          "output_type": "display_data",
          "data": {
            "text/plain": [
              "<Figure size 1200x800 with 2 Axes>"
            ],
            "image/png": "[encoded data removed]"
          },
          "metadata": {
            "needs_background": "light"
          }
        }
      ]
    }
  ]
}